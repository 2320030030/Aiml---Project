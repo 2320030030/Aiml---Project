{
  "nbformat": 4,
  "nbformat_minor": 0,
  "metadata": {
    "colab": {
      "provenance": [],
      "authorship_tag": "ABX9TyPYQzRlD5IJ7pnP5fo5Vpib",
      "include_colab_link": true
    },
    "kernelspec": {
      "name": "python3",
      "display_name": "Python 3"
    },
    "language_info": {
      "name": "python"
    }
  },
  "cells": [
    {
      "cell_type": "markdown",
      "metadata": {
        "id": "view-in-github",
        "colab_type": "text"
      },
      "source": [
        "<a href=\"https://colab.research.google.com/github/2320030030/Aiml---Project/blob/main/Sample%20Project%20Code.ipynb\" target=\"_parent\"><img src=\"https://colab.research.google.com/assets/colab-badge.svg\" alt=\"Open In Colab\"/></a>"
      ]
    },
    {
      "cell_type": "code",
      "execution_count": 1,
      "metadata": {
        "colab": {
          "base_uri": "https://localhost:8080/",
          "height": 383
        },
        "id": "p2Is7hBqZGKr",
        "outputId": "13f492e3-bb1a-4cfe-805d-82bbe876bcee"
      },
      "outputs": [
        {
          "output_type": "error",
          "ename": "ModuleNotFoundError",
          "evalue": "No module named 'mtcnn'",
          "traceback": [
            "\u001b[0;31m---------------------------------------------------------------------------\u001b[0m",
            "\u001b[0;31mModuleNotFoundError\u001b[0m                       Traceback (most recent call last)",
            "\u001b[0;32m<ipython-input-1-f5fa47de2a36>\u001b[0m in \u001b[0;36m<cell line: 3>\u001b[0;34m()\u001b[0m\n\u001b[1;32m      1\u001b[0m \u001b[0;32mimport\u001b[0m \u001b[0mcv2\u001b[0m\u001b[0;34m\u001b[0m\u001b[0;34m\u001b[0m\u001b[0m\n\u001b[1;32m      2\u001b[0m \u001b[0;32mimport\u001b[0m \u001b[0mnumpy\u001b[0m \u001b[0;32mas\u001b[0m \u001b[0mnp\u001b[0m\u001b[0;34m\u001b[0m\u001b[0;34m\u001b[0m\u001b[0m\n\u001b[0;32m----> 3\u001b[0;31m \u001b[0;32mfrom\u001b[0m \u001b[0mmtcnn\u001b[0m\u001b[0;34m.\u001b[0m\u001b[0mmtcnn\u001b[0m \u001b[0;32mimport\u001b[0m \u001b[0mMTCNN\u001b[0m\u001b[0;34m\u001b[0m\u001b[0;34m\u001b[0m\u001b[0m\n\u001b[0m\u001b[1;32m      4\u001b[0m \u001b[0;32mfrom\u001b[0m \u001b[0mtensorflow\u001b[0m\u001b[0;34m.\u001b[0m\u001b[0mkeras\u001b[0m\u001b[0;34m.\u001b[0m\u001b[0mmodels\u001b[0m \u001b[0;32mimport\u001b[0m \u001b[0mload_model\u001b[0m\u001b[0;34m\u001b[0m\u001b[0;34m\u001b[0m\u001b[0m\n\u001b[1;32m      5\u001b[0m \u001b[0;32mfrom\u001b[0m \u001b[0msklearn\u001b[0m\u001b[0;34m.\u001b[0m\u001b[0mpreprocessing\u001b[0m \u001b[0;32mimport\u001b[0m \u001b[0mNormalizer\u001b[0m\u001b[0;34m\u001b[0m\u001b[0;34m\u001b[0m\u001b[0m\n",
            "\u001b[0;31mModuleNotFoundError\u001b[0m: No module named 'mtcnn'",
            "",
            "\u001b[0;31m---------------------------------------------------------------------------\u001b[0;32m\nNOTE: If your import is failing due to a missing package, you can\nmanually install dependencies using either !pip or !apt.\n\nTo view examples of installing some common dependencies, click the\n\"Open Examples\" button below.\n\u001b[0;31m---------------------------------------------------------------------------\u001b[0m\n"
          ],
          "errorDetails": {
            "actions": [
              {
                "action": "open_url",
                "actionText": "Open Examples",
                "url": "/notebooks/snippets/importing_libraries.ipynb"
              }
            ]
          }
        }
      ],
      "source": [
        "import cv2\n",
        "import numpy as np\n",
        "from mtcnn.mtcnn import MTCNN\n",
        "from tensorflow.keras.models import load_model\n",
        "from sklearn.preprocessing import Normalizer\n",
        "import os\n",
        "\n",
        "# Load the FaceNet model for embedding\n",
        "model = load_model('facenet_keras.h5')  # Ensure you have the pre-trained model file\n",
        "\n",
        "# L2 normalization for feature vectors\n",
        "in_encoder = Normalizer(norm='l2')\n",
        "\n",
        "# Initialize MTCNN for face detection\n",
        "detector = MTCNN()\n",
        "\n",
        "# Sample dataset: Dictionary with image paths and names\n",
        "registered_faces = {\n",
        "    \"Indira Priyadarshini\": \"dataset/indira.jpg\",\n",
        "    \"Venkat Reddy\": \"dataset/venkat.jpg\",\n",
        "    \"Shanmukha Devi\": \"dataset/shanmukha.jpg\",\n",
        "    \"Keerthi Dhara Reddy\": \"dataset/keerthi.jpg\"\n",
        "}\n",
        "\n",
        "# Function to extract face from an image\n",
        "def extract_face(filename, required_size=(160, 160)):\n",
        "    img = cv2.imread(filename)\n",
        "    results = detector.detect_faces(img)\n",
        "    if len(results) == 0:\n",
        "        return None\n",
        "    x1, y1, width, height = results[0]['box']\n",
        "    x1, y1 = abs(x1), abs(y1)\n",
        "    x2, y2 = x1 + width, y1 + height\n",
        "    face = img[y1:y2, x1:x2]\n",
        "    face = cv2.resize(face, required_size)\n",
        "    return face\n",
        "\n",
        "# Convert faces into FaceNet embeddings\n",
        "def get_embedding(model, face_pixels):\n",
        "    face_pixels = face_pixels.astype('float32')\n",
        "    mean, std = face_pixels.mean(), face_pixels.std()\n",
        "    face_pixels = (face_pixels - mean) / std\n",
        "    samples = np.expand_dims(face_pixels, axis=0)\n",
        "    yhat = model.predict(samples)\n",
        "    return yhat[0]\n",
        "\n",
        "# Prepare dataset of registered embeddings\n",
        "def prepare_registered_faces():\n",
        "    embeddings = {}\n",
        "    for name, image_path in registered_faces.items():\n",
        "        face = extract_face(image_path)\n",
        "        if face is not None:\n",
        "            embedding = get_embedding(model, face)\n",
        "            embedding = in_encoder.transform([embedding])[0]  # Normalize embedding\n",
        "            embeddings[name] = embedding\n",
        "    return embeddings\n",
        "\n",
        "# Compare new face embedding with registered embeddings\n",
        "def recognize_face(embeddings, new_embedding, threshold=0.5):\n",
        "    min_dist = 100\n",
        "    identity = None\n",
        "    for name, embedding in embeddings.items():\n",
        "        dist = np.linalg.norm(embedding - new_embedding)\n",
        "        if dist < min_dist and dist < threshold:\n",
        "            min_dist = dist\n",
        "            identity = name\n",
        "    return identity\n",
        "\n",
        "# Real-time attendance system\n",
        "def run_attendance_system():\n",
        "    embeddings = prepare_registered_faces()\n",
        "    cap = cv2.VideoCapture(0)  # Access webcam\n",
        "    while True:\n",
        "        ret, frame = cap.read()\n",
        "        if not ret:\n",
        "            break\n",
        "        faces = detector.detect_faces(frame)\n",
        "        for result in faces:\n",
        "            x1, y1, width, height = result['box']\n",
        "            x1, y1 = abs(x1), abs(y1)\n",
        "            x2, y2 = x1 + width, y1 + height\n",
        "            face = frame[y1:y2, x1:x2]\n",
        "            face = cv2.resize(face, (160, 160))\n",
        "            embedding = get_embedding(model, face)\n",
        "            embedding = in_encoder.transform([embedding])[0]\n",
        "            name = recognize_face(embeddings, embedding)\n",
        "\n",
        "            if name is not None:\n",
        "                cv2.rectangle(frame, (x1, y1), (x2, y2), (0, 255, 0), 2)\n",
        "                cv2.putText(frame, name, (x1, y1 - 10), cv2.FONT_HERSHEY_SIMPLEX, 1, (0, 255, 0), 2)\n",
        "            else:\n",
        "                cv2.rectangle(frame, (x1, y1), (x2, y2), (0, 0, 255), 2)\n",
        "                cv2.putText(frame, \"Unknown\", (x1, y1 - 10), cv2.FONT_HERSHEY_SIMPLEX, 1, (0, 0, 255), 2)\n",
        "\n",
        "        cv2.imshow('Attendance System', frame)\n",
        "        if cv2.waitKey(1) & 0xFF == ord('q'):\n",
        "            break\n",
        "\n",
        "    cap.release()\n",
        "    cv2.destroyAllWindows()\n",
        "\n",
        "if __name__ == '__main__':\n",
        "    run_attendance_system()\n"
      ]
    }
  ]
}